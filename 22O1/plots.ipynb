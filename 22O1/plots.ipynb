{
 "cells": [
  {
   "cell_type": "code",
   "execution_count": 29,
   "metadata": {},
   "outputs": [
    {
     "name": "stdout",
     "output_type": "stream",
     "text": [
      "      Timestamp  Channel A\n",
      "0         0.000    0.02075\n",
      "2         0.064    0.02068\n",
      "4         0.128    0.02066\n",
      "7         0.224    0.02049\n",
      "9         0.288    0.02053\n",
      "...         ...        ...\n",
      "5378    179.711    0.02900\n",
      "5380    179.775    0.02870\n",
      "5382    179.839    0.02880\n",
      "5384    179.903    0.02890\n",
      "5386    179.967    0.02880\n",
      "\n",
      "[2686 rows x 2 columns]\n"
     ]
    },
    {
     "data": {
      "text/plain": [
       "array([[0.00000e+00, 2.07500e-02],\n",
       "       [6.40000e-02, 2.06800e-02],\n",
       "       [1.28000e-01, 2.06600e-02],\n",
       "       ...,\n",
       "       [1.79839e+02, 2.88000e-02],\n",
       "       [1.79903e+02, 2.89000e-02],\n",
       "       [1.79967e+02, 2.88000e-02]])"
      ]
     },
     "execution_count": 29,
     "metadata": {},
     "output_type": "execute_result"
    }
   ],
   "source": [
    "import pandas as pd\n",
    "import numpy as np\n",
    "\n",
    "data = pd.read_csv('Multi_36.txt', skiprows = 29,sep='\\t')\n",
    " \n",
    "data.columns = ['Timestamp', 'Channel A', 'Channel B', 'Unnamed']\n",
    "data_1 = data.drop('Channel B', axis=1)\n",
    "data_2 = data_1.drop('Unnamed', axis=1)\n",
    "data_2['Channel A'] = pd.to_numeric(data_2[\"Channel A\"], errors='coerce')\n",
    "data_3 = data_2.dropna()\n",
    "print(data_3)\n",
    "data_3.to_numpy()\n"
   ]
  },
  {
   "cell_type": "code",
   "execution_count": 22,
   "metadata": {},
   "outputs": [
    {
     "name": "stdout",
     "output_type": "stream",
     "text": [
      "   Year Inflation Rate\n",
      "0  2016           4.47\n",
      "1  2017              5\n",
      "2  2018           5.98\n",
      "3  2019            4.1\n",
      "Year              object\n",
      "Inflation Rate    object\n",
      "dtype: object\n"
     ]
    }
   ],
   "source": [
    "# importing pandas library\n",
    "import pandas as pd\n",
    "  \n",
    "# dictionary\n",
    "Data = {'Year': ['2016', '2017', \n",
    "                 '2018', '2019'],\n",
    "        'Inflation Rate': ['4.47', '5', \n",
    "                           '5.98', '4.1']}\n",
    "# create a dataframe\n",
    "df = pd.DataFrame(Data)\n",
    "  \n",
    "# show the dataframe\n",
    "print (df)\n",
    "  \n",
    "# show the datatypes\n",
    "print(df.dtypes)"
   ]
  },
  {
   "cell_type": "code",
   "execution_count": null,
   "metadata": {},
   "outputs": [],
   "source": []
  }
 ],
 "metadata": {
  "kernelspec": {
   "display_name": "Python 3.8.10 64-bit",
   "language": "python",
   "name": "python3"
  },
  "language_info": {
   "codemirror_mode": {
    "name": "ipython",
    "version": 3
   },
   "file_extension": ".py",
   "mimetype": "text/x-python",
   "name": "python",
   "nbconvert_exporter": "python",
   "pygments_lexer": "ipython3",
   "version": "3.8.10"
  },
  "orig_nbformat": 4,
  "vscode": {
   "interpreter": {
    "hash": "916dbcbb3f70747c44a77c7bcd40155683ae19c65e1c03b4aa3499c5328201f1"
   }
  }
 },
 "nbformat": 4,
 "nbformat_minor": 2
}
